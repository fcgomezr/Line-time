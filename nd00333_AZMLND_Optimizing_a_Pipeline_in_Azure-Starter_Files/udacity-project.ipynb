{
  "cells": [
    {
      "cell_type": "code",
      "source": [
        "from azureml.core import Workspace, Experiment\n",
        "\n",
        "ws = Workspace.get(name=\"quick-starts-ws-122607\")\n",
        "\n",
        "exp = Experiment(workspace=ws, name=\"udacity-project\")\n",
        "\n",
        "print('Workspace name: ' + ws.name, \n",
        "      'Azure region: ' + ws.location, \n",
        "      'Subscription id: ' + ws.subscription_id, \n",
        "      'Resource group: ' + ws.resource_group, sep = '\\n')\n",
        "\n",
        "run = exp.start_logging()"
      ],
      "outputs": [
        {
          "output_type": "stream",
          "name": "stdout",
          "text": [
            "Workspace name: quick-starts-ws-122607\n",
            "Azure region: southcentralus\n",
            "Subscription id: 19019985-4709-4996-8830-8568281fc2ff\n",
            "Resource group: aml-quickstarts-122607\n"
          ]
        }
      ],
      "execution_count": 1,
      "metadata": {
        "gather": {
          "logged": 1598275788035
        }
      }
    },
    {
      "cell_type": "code",
      "source": [
        "from azureml.core.compute import ComputeTarget, AmlCompute\n",
        "# TODO: Create compute cluster\n",
        "# Use vm_size = \"Standard_D2_V2\" in your provisioning configuration.\n",
        "# max_nodes should be no greater than 4.\n",
        "\n",
        "### YOUR CODE HERE ###\n",
        "comp_cluster = 'optimize-ml-pipeline-cluster'\n",
        "comp_confg = AmlCompute.provisioning_configuration(vm_size='Standard_D2_V2', max_nodes=4, min_nodes=1)\n",
        "comp_trget = ComputeTarget.create(ws, comp_cluster, comp_confg)"
      ],
      "outputs": [
        {
          "output_type": "error",
          "ename": "ComputeTargetException",
          "evalue": "ComputeTargetException:\n\tMessage: Received bad response from Resource Provider:\nResponse Code: 400\nHeaders: {'Cache-Control': 'no-cache', 'Pragma': 'no-cache', 'Content-Length': '375', 'Content-Type': 'application/json; charset=utf-8', 'Expires': '-1', 'x-ms-correlation-request-id': 'cc84c4c0-064d-4c5c-8a17-15f6c7e9a6e5', 'x-ms-ratelimit-remaining-subscription-writes': '1196', 'Request-Context': 'appId=cid-v1:2d2e8e63-272e-4b3c-8598-4ee570a0e70d', 'x-ms-response-type': 'standard', 'x-ms-request-id': '|00-86a529add1f0584189533373f739b90b-eadefd675621b547-00.c063121e_', 'X-Content-Type-Options': 'nosniff', 'x-request-time': '0.033', 'Strict-Transport-Security': 'max-age=31536000; includeSubDomains', 'x-ms-routing-request-id': 'SOUTHCENTRALUS:20201024T115714Z:cc84c4c0-064d-4c5c-8a17-15f6c7e9a6e5', 'Date': 'Sat, 24 Oct 2020 11:57:13 GMT'}\nContent: b'{\"error\":{\"code\":\"BadArgument\",\"message\":\"Compute name is invalid. It can include letters, digits and dashes. It must start with a letter, end with a letter or digit, and be between 2 and 16 characters in length.\",\"innererror\":{\"clientRequestId\":\"71d9123a-c866-4cc6-95c1-06a9837d71d6\",\"serviceRequestId\":\"|00-86a529add1f0584189533373f739b90b-eadefd675621b547-00.c063121e_\"}}}'\n\tInnerException None\n\tErrorResponse \n{\n    \"error\": {\n        \"message\": \"Received bad response from Resource Provider:\\nResponse Code: 400\\nHeaders: {'Cache-Control': 'no-cache', 'Pragma': 'no-cache', 'Content-Length': '375', 'Content-Type': 'application/json; charset=utf-8', 'Expires': '-1', 'x-ms-correlation-request-id': 'cc84c4c0-064d-4c5c-8a17-15f6c7e9a6e5', 'x-ms-ratelimit-remaining-subscription-writes': '1196', 'Request-Context': 'appId=cid-v1:2d2e8e63-272e-4b3c-8598-4ee570a0e70d', 'x-ms-response-type': 'standard', 'x-ms-request-id': '|00-86a529add1f0584189533373f739b90b-eadefd675621b547-00.c063121e_', 'X-Content-Type-Options': 'nosniff', 'x-request-time': '0.033', 'Strict-Transport-Security': 'max-age=31536000; includeSubDomains', 'x-ms-routing-request-id': 'SOUTHCENTRALUS:20201024T115714Z:cc84c4c0-064d-4c5c-8a17-15f6c7e9a6e5', 'Date': 'Sat, 24 Oct 2020 11:57:13 GMT'}\\nContent: b'{\\\"error\\\":{\\\"code\\\":\\\"BadArgument\\\",\\\"message\\\":\\\"Compute name is invalid. It can include letters, digits and dashes. It must start with a letter, end with a letter or digit, and be between 2 and 16 characters in length.\\\",\\\"innererror\\\":{\\\"clientRequestId\\\":\\\"71d9123a-c866-4cc6-95c1-06a9837d71d6\\\",\\\"serviceRequestId\\\":\\\"|00-86a529add1f0584189533373f739b90b-eadefd675621b547-00.c063121e_\\\"}}}'\"\n    }\n}",
          "traceback": [
            "\u001b[0;31m---------------------------------------------------------------------------\u001b[0m",
            "\u001b[0;31mHTTPError\u001b[0m                                 Traceback (most recent call last)",
            "\u001b[0;32m/anaconda/envs/azureml_py36/lib/python3.6/site-packages/azureml/core/compute/compute.py\u001b[0m in \u001b[0;36m_create_compute_target\u001b[0;34m(workspace, name, compute_payload, target_class)\u001b[0m\n\u001b[1;32m    365\u001b[0m         \u001b[0;32mtry\u001b[0m\u001b[0;34m:\u001b[0m\u001b[0;34m\u001b[0m\u001b[0;34m\u001b[0m\u001b[0m\n\u001b[0;32m--> 366\u001b[0;31m             \u001b[0mresp\u001b[0m\u001b[0;34m.\u001b[0m\u001b[0mraise_for_status\u001b[0m\u001b[0;34m(\u001b[0m\u001b[0;34m)\u001b[0m\u001b[0;34m\u001b[0m\u001b[0;34m\u001b[0m\u001b[0m\n\u001b[0m\u001b[1;32m    367\u001b[0m         \u001b[0;32mexcept\u001b[0m \u001b[0mrequests\u001b[0m\u001b[0;34m.\u001b[0m\u001b[0mexceptions\u001b[0m\u001b[0;34m.\u001b[0m\u001b[0mHTTPError\u001b[0m\u001b[0;34m:\u001b[0m\u001b[0;34m\u001b[0m\u001b[0;34m\u001b[0m\u001b[0m\n",
            "\u001b[0;32m/anaconda/envs/azureml_py36/lib/python3.6/site-packages/requests/models.py\u001b[0m in \u001b[0;36mraise_for_status\u001b[0;34m(self)\u001b[0m\n\u001b[1;32m    940\u001b[0m         \u001b[0;32mif\u001b[0m \u001b[0mhttp_error_msg\u001b[0m\u001b[0;34m:\u001b[0m\u001b[0;34m\u001b[0m\u001b[0;34m\u001b[0m\u001b[0m\n\u001b[0;32m--> 941\u001b[0;31m             \u001b[0;32mraise\u001b[0m \u001b[0mHTTPError\u001b[0m\u001b[0;34m(\u001b[0m\u001b[0mhttp_error_msg\u001b[0m\u001b[0;34m,\u001b[0m \u001b[0mresponse\u001b[0m\u001b[0;34m=\u001b[0m\u001b[0mself\u001b[0m\u001b[0;34m)\u001b[0m\u001b[0;34m\u001b[0m\u001b[0;34m\u001b[0m\u001b[0m\n\u001b[0m\u001b[1;32m    942\u001b[0m \u001b[0;34m\u001b[0m\u001b[0m\n",
            "\u001b[0;31mHTTPError\u001b[0m: 400 Client Error: Bad Request for url: https://management.azure.com//subscriptions/19019985-4709-4996-8830-8568281fc2ff/resourceGroups/aml-quickstarts-122607/providers/Microsoft.MachineLearningServices/workspaces/quick-starts-ws-122607/computes/optimize-ml-pipeline-cluster?api-version=2020-02-02",
            "\nDuring handling of the above exception, another exception occurred:\n",
            "\u001b[0;31mComputeTargetException\u001b[0m                    Traceback (most recent call last)",
            "\u001b[0;32m<ipython-input-11-bf9fecf0355a>\u001b[0m in \u001b[0;36m<module>\u001b[0;34m\u001b[0m\n\u001b[1;32m      7\u001b[0m \u001b[0mcomp_cluster\u001b[0m \u001b[0;34m=\u001b[0m \u001b[0;34m'optimize-ml-pipeline-cluster'\u001b[0m\u001b[0;34m\u001b[0m\u001b[0;34m\u001b[0m\u001b[0m\n\u001b[1;32m      8\u001b[0m \u001b[0mcomp_confg\u001b[0m \u001b[0;34m=\u001b[0m \u001b[0mAmlCompute\u001b[0m\u001b[0;34m.\u001b[0m\u001b[0mprovisioning_configuration\u001b[0m\u001b[0;34m(\u001b[0m\u001b[0mvm_size\u001b[0m\u001b[0;34m=\u001b[0m\u001b[0;34m'Standard_D2_V2'\u001b[0m\u001b[0;34m,\u001b[0m \u001b[0mmax_nodes\u001b[0m\u001b[0;34m=\u001b[0m\u001b[0;36m4\u001b[0m\u001b[0;34m,\u001b[0m \u001b[0mmin_nodes\u001b[0m\u001b[0;34m=\u001b[0m\u001b[0;36m1\u001b[0m\u001b[0;34m)\u001b[0m\u001b[0;34m\u001b[0m\u001b[0;34m\u001b[0m\u001b[0m\n\u001b[0;32m----> 9\u001b[0;31m \u001b[0mcomp_trget\u001b[0m \u001b[0;34m=\u001b[0m \u001b[0mComputeTarget\u001b[0m\u001b[0;34m.\u001b[0m\u001b[0mcreate\u001b[0m\u001b[0;34m(\u001b[0m\u001b[0mws\u001b[0m\u001b[0;34m,\u001b[0m \u001b[0mcomp_cluster\u001b[0m\u001b[0;34m,\u001b[0m \u001b[0mcomp_confg\u001b[0m\u001b[0;34m)\u001b[0m\u001b[0;34m\u001b[0m\u001b[0;34m\u001b[0m\u001b[0m\n\u001b[0m",
            "\u001b[0;32m/anaconda/envs/azureml_py36/lib/python3.6/site-packages/azureml/core/compute/compute.py\u001b[0m in \u001b[0;36mcreate\u001b[0;34m(workspace, name, provisioning_configuration)\u001b[0m\n\u001b[1;32m    338\u001b[0m                                      \" {} is a reserved name.\".format(name))\n\u001b[1;32m    339\u001b[0m         \u001b[0mcompute_type\u001b[0m \u001b[0;34m=\u001b[0m \u001b[0mprovisioning_configuration\u001b[0m\u001b[0;34m.\u001b[0m\u001b[0m_compute_type\u001b[0m\u001b[0;34m\u001b[0m\u001b[0;34m\u001b[0m\u001b[0m\n\u001b[0;32m--> 340\u001b[0;31m         \u001b[0;32mreturn\u001b[0m \u001b[0mcompute_type\u001b[0m\u001b[0;34m.\u001b[0m\u001b[0m_create\u001b[0m\u001b[0;34m(\u001b[0m\u001b[0mworkspace\u001b[0m\u001b[0;34m,\u001b[0m \u001b[0mname\u001b[0m\u001b[0;34m,\u001b[0m \u001b[0mprovisioning_configuration\u001b[0m\u001b[0;34m)\u001b[0m\u001b[0;34m\u001b[0m\u001b[0;34m\u001b[0m\u001b[0m\n\u001b[0m\u001b[1;32m    341\u001b[0m \u001b[0;34m\u001b[0m\u001b[0m\n\u001b[1;32m    342\u001b[0m     \u001b[0;34m@\u001b[0m\u001b[0mstaticmethod\u001b[0m\u001b[0;34m\u001b[0m\u001b[0;34m\u001b[0m\u001b[0m\n",
            "\u001b[0;32m/anaconda/envs/azureml_py36/lib/python3.6/site-packages/azureml/core/compute/amlcompute.py\u001b[0m in \u001b[0;36m_create\u001b[0;34m(workspace, name, provisioning_configuration)\u001b[0m\n\u001b[1;32m    183\u001b[0m         compute_create_payload = AmlCompute._build_create_payload(provisioning_configuration,\n\u001b[1;32m    184\u001b[0m                                                                   workspace.location, workspace.subscription_id)\n\u001b[0;32m--> 185\u001b[0;31m         \u001b[0;32mreturn\u001b[0m \u001b[0mComputeTarget\u001b[0m\u001b[0;34m.\u001b[0m\u001b[0m_create_compute_target\u001b[0m\u001b[0;34m(\u001b[0m\u001b[0mworkspace\u001b[0m\u001b[0;34m,\u001b[0m \u001b[0mname\u001b[0m\u001b[0;34m,\u001b[0m \u001b[0mcompute_create_payload\u001b[0m\u001b[0;34m,\u001b[0m \u001b[0mAmlCompute\u001b[0m\u001b[0;34m)\u001b[0m\u001b[0;34m\u001b[0m\u001b[0;34m\u001b[0m\u001b[0m\n\u001b[0m\u001b[1;32m    186\u001b[0m \u001b[0;34m\u001b[0m\u001b[0m\n\u001b[1;32m    187\u001b[0m     \u001b[0;34m@\u001b[0m\u001b[0mstaticmethod\u001b[0m\u001b[0;34m\u001b[0m\u001b[0;34m\u001b[0m\u001b[0m\n",
            "\u001b[0;32m/anaconda/envs/azureml_py36/lib/python3.6/site-packages/azureml/core/compute/compute.py\u001b[0m in \u001b[0;36m_create_compute_target\u001b[0;34m(workspace, name, compute_payload, target_class)\u001b[0m\n\u001b[1;32m    369\u001b[0m                                          \u001b[0;34m'Response Code: {}\\n'\u001b[0m\u001b[0;34m\u001b[0m\u001b[0;34m\u001b[0m\u001b[0m\n\u001b[1;32m    370\u001b[0m                                          \u001b[0;34m'Headers: {}\\n'\u001b[0m\u001b[0;34m\u001b[0m\u001b[0;34m\u001b[0m\u001b[0m\n\u001b[0;32m--> 371\u001b[0;31m                                          'Content: {}'.format(resp.status_code, resp.headers, resp.content))\n\u001b[0m\u001b[1;32m    372\u001b[0m         \u001b[0;32mif\u001b[0m \u001b[0;34m'Azure-AsyncOperation'\u001b[0m \u001b[0;32mnot\u001b[0m \u001b[0;32min\u001b[0m \u001b[0mresp\u001b[0m\u001b[0;34m.\u001b[0m\u001b[0mheaders\u001b[0m\u001b[0;34m:\u001b[0m\u001b[0;34m\u001b[0m\u001b[0;34m\u001b[0m\u001b[0m\n\u001b[1;32m    373\u001b[0m             raise ComputeTargetException('Error, missing operation location from resp headers:\\n'\n",
            "\u001b[0;31mComputeTargetException\u001b[0m: ComputeTargetException:\n\tMessage: Received bad response from Resource Provider:\nResponse Code: 400\nHeaders: {'Cache-Control': 'no-cache', 'Pragma': 'no-cache', 'Content-Length': '375', 'Content-Type': 'application/json; charset=utf-8', 'Expires': '-1', 'x-ms-correlation-request-id': 'cc84c4c0-064d-4c5c-8a17-15f6c7e9a6e5', 'x-ms-ratelimit-remaining-subscription-writes': '1196', 'Request-Context': 'appId=cid-v1:2d2e8e63-272e-4b3c-8598-4ee570a0e70d', 'x-ms-response-type': 'standard', 'x-ms-request-id': '|00-86a529add1f0584189533373f739b90b-eadefd675621b547-00.c063121e_', 'X-Content-Type-Options': 'nosniff', 'x-request-time': '0.033', 'Strict-Transport-Security': 'max-age=31536000; includeSubDomains', 'x-ms-routing-request-id': 'SOUTHCENTRALUS:20201024T115714Z:cc84c4c0-064d-4c5c-8a17-15f6c7e9a6e5', 'Date': 'Sat, 24 Oct 2020 11:57:13 GMT'}\nContent: b'{\"error\":{\"code\":\"BadArgument\",\"message\":\"Compute name is invalid. It can include letters, digits and dashes. It must start with a letter, end with a letter or digit, and be between 2 and 16 characters in length.\",\"innererror\":{\"clientRequestId\":\"71d9123a-c866-4cc6-95c1-06a9837d71d6\",\"serviceRequestId\":\"|00-86a529add1f0584189533373f739b90b-eadefd675621b547-00.c063121e_\"}}}'\n\tInnerException None\n\tErrorResponse \n{\n    \"error\": {\n        \"message\": \"Received bad response from Resource Provider:\\nResponse Code: 400\\nHeaders: {'Cache-Control': 'no-cache', 'Pragma': 'no-cache', 'Content-Length': '375', 'Content-Type': 'application/json; charset=utf-8', 'Expires': '-1', 'x-ms-correlation-request-id': 'cc84c4c0-064d-4c5c-8a17-15f6c7e9a6e5', 'x-ms-ratelimit-remaining-subscription-writes': '1196', 'Request-Context': 'appId=cid-v1:2d2e8e63-272e-4b3c-8598-4ee570a0e70d', 'x-ms-response-type': 'standard', 'x-ms-request-id': '|00-86a529add1f0584189533373f739b90b-eadefd675621b547-00.c063121e_', 'X-Content-Type-Options': 'nosniff', 'x-request-time': '0.033', 'Strict-Transport-Security': 'max-age=31536000; includeSubDomains', 'x-ms-routing-request-id': 'SOUTHCENTRALUS:20201024T115714Z:cc84c4c0-064d-4c5c-8a17-15f6c7e9a6e5', 'Date': 'Sat, 24 Oct 2020 11:57:13 GMT'}\\nContent: b'{\\\"error\\\":{\\\"code\\\":\\\"BadArgument\\\",\\\"message\\\":\\\"Compute name is invalid. It can include letters, digits and dashes. It must start with a letter, end with a letter or digit, and be between 2 and 16 characters in length.\\\",\\\"innererror\\\":{\\\"clientRequestId\\\":\\\"71d9123a-c866-4cc6-95c1-06a9837d71d6\\\",\\\"serviceRequestId\\\":\\\"|00-86a529add1f0584189533373f739b90b-eadefd675621b547-00.c063121e_\\\"}}}'\"\n    }\n}"
          ]
        }
      ],
      "execution_count": 11,
      "metadata": {
        "gather": {
          "logged": 1598275788675
        },
        "jupyter": {
          "outputs_hidden": false,
          "source_hidden": false
        },
        "nteract": {
          "transient": {
            "deleting": false
          }
        }
      }
    },
    {
      "cell_type": "code",
      "source": [
        "comp_trget = ws.compute_targets\n",
        "for comp_name,comp_type in comp_trget.items():\n",
        "    print(comp_name,comp.type,comp.provisioning_state)"
      ],
      "outputs": [
        {
          "output_type": "stream",
          "name": "stdout",
          "text": [
            "project1-compute ComputeInstance Succeeded\n"
          ]
        }
      ],
      "execution_count": 9,
      "metadata": {}
    },
    {
      "cell_type": "code",
      "source": [
        "from azureml.widgets import RunDetails\n",
        "from azureml.train.sklearn import SKLearn\n",
        "from azureml.train.hyperdrive.run import PrimaryMetricGoal\n",
        "from azureml.train.hyperdrive.policy import BanditPolicy\n",
        "from azureml.train.hyperdrive.sampling import RandomParameterSampling\n",
        "from azureml.train.hyperdrive.runconfig import HyperDriveConfig\n",
        "from azureml.train.hyperdrive.parameter_expressions import uniform\n",
        "import os\n",
        "\n",
        "# Specify parameter sampler\n",
        "ps = RandomParameterSampling(\n",
        "{\n",
        "    '--batch-size' : choice(30,65,100),\n",
        "    '--learning-rate' : loguniform(-7,-1)\n",
        "})\n",
        "\n",
        "# Specify a Policy\n",
        "policy = BanditPolicy(evaluation_interval = 3, slack_factor = 0.1)\n",
        "\n",
        "if \"training\" not in os.listdir():\n",
        "    os.mkdir(\"./training\")\n",
        "\n",
        "# Create a SKLearn estimator for use with train.py\n",
        "est = SKLearn(\n",
        "    source_directory = './',\n",
        "    compute_target = comp_trget,\n",
        "    entry_script = 'train.py'\n",
        ")\n",
        "\n",
        "# Create a HyperDriveConfig using the estimator, hyperparameter sampler, and policy.\n",
        "hyperdrive_config = HyperDriveConfig (\n",
        "    hyperparameter_sampling=ps,\n",
        "    primary_metric_name='Accuracy',\n",
        "    primary_metric_goal=PrimaryMetricGoal.MAXIMIZE,\n",
        "    max_total_runs=100,\n",
        "    max_concurrent_runs=5,\n",
        "    policy=policy,\n",
        "    estimator=est\n",
        ")"
      ],
      "outputs": [],
      "execution_count": null,
      "metadata": {
        "gather": {
          "logged": 1598275789986
        },
        "jupyter": {
          "outputs_hidden": false,
          "source_hidden": false
        },
        "nteract": {
          "transient": {
            "deleting": false
          }
        }
      }
    },
    {
      "cell_type": "code",
      "source": [
        "# Submit your hyperdrive run to the experiment and show run details with the widget.\n",
        "### YOUR CODE HERE ###\n",
        "hyperdrive_submission = exp.submit(config=hyperdrive_config)\n",
        "hyperdrive_submission.wait_for_completion(show_output=True)"
      ],
      "outputs": [],
      "execution_count": null,
      "metadata": {}
    },
    {
      "cell_type": "code",
      "source": [
        "import joblib\n",
        "# Get your best run and save the model from that run.\n",
        "\n",
        "### YOUR CODE HERE ###\n",
        "best_run = hyperdrive_submission.get_best_run_by_primary_metric()\n",
        "print('ID : ',best_run.id)\n",
        "best_metric = best_run.get_metrics()\n",
        "print('Accuracy : ',best_metric['accuracy'])\n",
        "\n",
        "final_model = best_run.register_model(model_name = 'hyper-logistic-model',model_path = '/outputs/model.joblib')"
      ],
      "outputs": [],
      "execution_count": null,
      "metadata": {
        "gather": {
          "logged": 1598276310862
        },
        "jupyter": {
          "outputs_hidden": false,
          "source_hidden": false
        },
        "nteract": {
          "transient": {
            "deleting": false
          }
        }
      }
    },
    {
      "cell_type": "code",
      "source": [
        "from azureml.data.dataset_factory import TabularDatasetFactory\n",
        "\n",
        "# Create TabularDataset using TabularDatasetFactory\n",
        "# Data is available at: \n",
        "# \"https://automlsamplenotebookdata.blob.core.windows.net/automl-sample-notebook-data/bankmarketing_train.csv\"\n",
        "\n",
        "### YOUR CODE HERE ###"
      ],
      "outputs": [],
      "execution_count": null,
      "metadata": {}
    },
    {
      "cell_type": "code",
      "source": [
        "from train import clean_data\n",
        "\n",
        "# Use the clean_data function to clean your data.\n",
        "x, y = clean_data(### YOUR DATA OBJECT HERE ###)"
      ],
      "outputs": [],
      "execution_count": null,
      "metadata": {
        "gather": {
          "logged": 1598275726969
        },
        "jupyter": {
          "outputs_hidden": false,
          "source_hidden": false
        },
        "nteract": {
          "transient": {
            "deleting": false
          }
        }
      }
    },
    {
      "cell_type": "code",
      "source": [
        "from azureml.train.automl import AutoMLConfig\n",
        "\n",
        "# Set parameters for AutoMLConfig\n",
        "# NOTE: DO NOT CHANGE THE experiment_timeout_minutes PARAMETER OR YOUR INSTANCE WILL TIME OUT.\n",
        "# If you wish to run the experiment longer, you will need to run this notebook in your own\n",
        "# Azure tenant, which will incur personal costs.\n",
        "automl_config = AutoMLConfig(\n",
        "    experiment_timeout_minutes=30,\n",
        "    task=,\n",
        "    primary_metric=,\n",
        "    training_data=,\n",
        "    label_column_name=,\n",
        "    n_cross_validations=)"
      ],
      "outputs": [],
      "execution_count": null,
      "metadata": {
        "gather": {
          "logged": 1598275665403
        },
        "jupyter": {
          "outputs_hidden": false,
          "source_hidden": false
        },
        "nteract": {
          "transient": {
            "deleting": false
          }
        }
      }
    },
    {
      "cell_type": "code",
      "source": [
        "# Submit your automl run\n",
        "\n",
        "### YOUR CODE HERE ###"
      ],
      "outputs": [],
      "execution_count": 2,
      "metadata": {
        "jupyter": {
          "outputs_hidden": false,
          "source_hidden": false
        },
        "nteract": {
          "transient": {
            "deleting": false
          }
        }
      }
    },
    {
      "cell_type": "code",
      "source": [
        "# Retrieve and save your best automl model.\n",
        "\n",
        "### YOUR CODE HERE ###"
      ],
      "outputs": [],
      "execution_count": null,
      "metadata": {}
    }
  ],
  "metadata": {
    "kernel_info": {
      "name": "python3-azureml"
    },
    "kernelspec": {
      "display_name": "Python 3",
      "language": "python",
      "name": "python3"
    },
    "language_info": {
      "codemirror_mode": {
        "name": "ipython",
        "version": 3
      },
      "file_extension": ".py",
      "mimetype": "text/x-python",
      "name": "python",
      "nbconvert_exporter": "python",
      "pygments_lexer": "ipython3",
      "version": "3.6.9"
    },
    "nteract": {
      "version": "nteract-front-end@1.0.0"
    }
  },
  "nbformat": 4,
  "nbformat_minor": 2
}